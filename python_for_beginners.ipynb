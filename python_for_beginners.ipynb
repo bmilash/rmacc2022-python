{
 "cells": [
  {
   "cell_type": "markdown",
   "id": "497f3dab-901d-4e24-b659-3ef26e23a50c",
   "metadata": {
    "tags": []
   },
   "source": [
    "# Python for Beginners\n",
    "## RMACC Symposium 2022\n",
    "Presented by Brett Milash, brett.milash@utah.edu, Center for High Performance Computing, University of Utah"
   ]
  },
  {
   "cell_type": "markdown",
   "id": "a6931745-ccce-4890-b203-0c18da9c2bfa",
   "metadata": {
    "tags": []
   },
   "source": [
    "Python continues to develop: new features are added with every minor release (e.g. 3.9, 3.10, 3.11, ...).\n",
    "\n",
    "Python is modular, with a large and ever-growing ecosystem of modules you can use:\n",
    "  * Python standard library\n",
    "  * Python package index (almost 400,000 projects)\n",
    "  * Open-source repositories like Github, Gitlab, Bitbucket, ...\n",
    "    \n",
    "Therefore **we're never \"done\" learning Python.**"
   ]
  },
  {
   "cell_type": "markdown",
   "id": "c8cb18bb-ae6c-4824-b77e-532f889524b0",
   "metadata": {
    "tags": []
   },
   "source": [
    "# About this class\n",
    "\n",
    "**As Python learners**, most of our time learning is not in the classroom, its in front of a screen and a keyboard figuring it out for ourselves.\n",
    "\n",
    "**As Python programmers**, we aspire to find and reuse existing code rather than writing everything from scratch.\n",
    "\n",
    "**Therefore the objectives for the class are:**\n",
    "  * Learn enough of the basics to read, write and execute python code\n",
    "  * Emphasize learning the skills to \"figure out\" python for ourselves:\n",
    "    * figure out what python objects are and can do\n",
    "    * decipher error messages\n",
    "    * learn to use the help system and documentation\n",
    "  * Emphasize learning the skills to reuse existing code\n",
    "    * writing and calling functions\n",
    "    * importing modules\n",
    "    * create new types of objects, inheriting from existing ones  "
   ]
  },
  {
   "cell_type": "markdown",
   "id": "ae2b2e4f-eef4-41c0-be67-d68347266919",
   "metadata": {
    "tags": []
   },
   "source": [
    "# Characteristics of the language\n",
    "* Interpreted\n",
    "* Object-oriented\n",
    "  * Data and functions (called \"methods\") are packaged together into objects\n",
    "  * An object's methods are used to manipulate that object's data\n",
    "  * Objects are organized into \"classes\", which define the objects' methods & data\n",
    "  * We can \"inherit\" from existing classes to create new classes with new or different functionality\n",
    "  * Great way to organize your code (and your thinking!)\n",
    "* Easy-to-read syntax\n",
    "  * Leading white space (indentation) is significant\n",
    "  * Level of indentation defines \"blocks\" of code\n",
    "  * Either tabs OR spaces - choose one or the other!"
   ]
  },
  {
   "cell_type": "markdown",
   "id": "52e214d7-bbbb-4042-a431-67ecf020ea8a",
   "metadata": {
    "tags": []
   },
   "source": [
    "# Running python code\n",
    "* Interactively (typing python statements at the python interpreter)\n",
    "* In a script\n",
    "    * Run the interpreter with your script as an argument: \"python scriptname.py ...\"\n",
    "    * As an executable script: \"#!/usr/bin/env python\"\n",
    "* In a cell in a notebook in Jupyter Lab (when you type Shift+Return or Shift+Enter)"
   ]
  },
  {
   "cell_type": "code",
   "execution_count": null,
   "id": "ef30a424-7455-4e84-935b-d1d41dfca28a",
   "metadata": {
    "tags": []
   },
   "outputs": [],
   "source": [
    "# This is a comment - it doesn't get executed when you type Shift+Return.\n",
    "# First, lets pull in the math module.\n",
    "import math\n",
    "\n",
    "# Now create a variable representing the radius of a circle.\n",
    "radius = 2.0\n",
    "\n",
    "# Lets call the print function to print the area of a circle with the given radius.\n",
    "print(\"The area of a circle with radius\", radius, \"is\", math.pi * radius * radius )\n",
    "\n",
    "# Try changing the value of r and re-running the code."
   ]
  },
  {
   "cell_type": "markdown",
   "id": "fb8cff5b-261e-4a03-885a-1537c0074fa2",
   "metadata": {},
   "source": [
    "## The built-in help system"
   ]
  },
  {
   "cell_type": "code",
   "execution_count": null,
   "id": "6fa3cb47-a278-4449-ad1c-aeecc91c425e",
   "metadata": {},
   "outputs": [],
   "source": [
    "# Now lets look at the help on the print function.\n",
    "help(math)\n",
    "# Try looking at help on the math module."
   ]
  },
  {
   "cell_type": "markdown",
   "id": "ce4430a8-6295-4ace-bc57-dec06d09414a",
   "metadata": {
    "jp-MarkdownHeadingCollapsed": true,
    "tags": []
   },
   "source": [
    "## Jupyter Lab Basics\n",
    "\n",
    "Python Jupyter Notebook files (.ipynb files) have a series of cells, one of which is active, and that cell has a blue bar on the left.\n",
    "\n",
    "Jupyter Notebooks have a modal user interface: depending on the mode the keyboard operates in 2 different ways:\n",
    "\n",
    "Command mode: manipulates cells using menus, toolbar, or keyboard shortcuts:\n",
    "  * arrow keys (or \"j\", \"k\") to move up and down.\n",
    "  * \"s\" saves the notebook\n",
    "  * \"a\" creates a cell above, \"b\" below\n",
    "  * \"c\" copies a cell, \"x\" cuts it, \"v\" pastes it\n",
    "  * \"dd\" deletes a cell\n",
    "  * \"z\" undeletes it\n",
    "  * change cell type to markdown (\"m\"), code (\"c\"), or raw (\"r\")\n",
    "  \n",
    "Edit mode: changes cell contents. Double-click to enter edit mode, Escape or Shift+Return to exit.\n",
    "  * in code cells, the cell acts as a python syntax-aware editor\n",
    "  * in markdown cells, the cell is a markdown-aware editor"
   ]
  },
  {
   "cell_type": "markdown",
   "id": "374ffc2f-ef5b-4111-a1fd-8ba1e5643297",
   "metadata": {
    "slideshow": {
     "slide_type": "slide"
    },
    "tags": []
   },
   "source": [
    "# Big Concepts in Python\n",
    "* Variables - a variable points to a data object\n",
    "  * a simple object like a number or a character string\n",
    "  * a compound object like a list of values or a dictionary of values\n",
    "  * a custom object that we create ourselves\n",
    "* Statements (and operators) - these do stuff, they are the verbs of the language\n",
    "* Functions - these are reusable blocks of code\n",
    "* Classes - these define all the different types of objects: their data, methods, etc.\n",
    "* Modules - entire files of python code, containing variables, functions, and classes"
   ]
  },
  {
   "cell_type": "markdown",
   "id": "cbd8b006-1d5e-4634-9932-e48ba808ef35",
   "metadata": {
    "slideshow": {
     "slide_type": "slide"
    },
    "tags": []
   },
   "source": [
    "# Variables\n",
    "* Simple values\n",
    "  * Numbers (integers, real numbers, complex numbers)\n",
    "  * Character strings\n",
    "  * Boolean values (True, False)\n",
    "  * None (the empty/unknown value)\n",
    "* Compound values\n",
    "  * Lists\n",
    "  * Tuples\n",
    "  * Sets\n",
    "  * Dictionaries\n",
    "  * Complex or custom objects that we design"
   ]
  },
  {
   "cell_type": "code",
   "execution_count": null,
   "id": "efcc25db-447e-4e2a-95a2-eb79246c4610",
   "metadata": {
    "scrolled": true
   },
   "outputs": [],
   "source": [
    "# Lets define some variables using the assignment operator \"=\", and call the print() function to print their values and types.\n",
    "x=1\n",
    "y=\"Here is a character string\"\n",
    "# What is the type of data assigned to x and y?\n",
    "print(\"The value of x is\", x, \"and its type is\", type(x))\n",
    "print(\"The value of y is\", y, \"and its type is\", type(y))\n",
    "\n",
    "# Now assign the value \"hello world\" to x. What is the type of x now?\n",
    "x=\"hello world\"\n",
    "print(\"The type of x is\", type(x))"
   ]
  },
  {
   "cell_type": "markdown",
   "id": "d39913d7-eeec-472c-9217-caadcdb6ebea",
   "metadata": {},
   "source": [
    "Notice how the type of value assigned to x has changed - python is a **dynamically typed** language.\n",
    "\n",
    "The type is not an attribute of the variable, its an attribute of the object to which the variable points."
   ]
  },
  {
   "cell_type": "markdown",
   "id": "23319840-4503-46b9-9d6a-cab1de324430",
   "metadata": {
    "tags": []
   },
   "source": [
    "## What methods does an object have?\n",
    "type() shows you the type of an object, and help() shows you the help on an object. Tab-completion can show you an object's methods:"
   ]
  },
  {
   "cell_type": "code",
   "execution_count": null,
   "id": "ad275369-a5bd-4070-a63a-bcc276c7bfe3",
   "metadata": {},
   "outputs": [],
   "source": [
    "# Position your cursor after the '.' and hit the tab key:\n",
    "x.\n",
    "# Try running the statement \"x.upper()\". Select \"upper\" off the menu, and add the open and close parentheses."
   ]
  },
  {
   "cell_type": "markdown",
   "id": "6ac20da5-530c-4f36-b7cf-d321cf982498",
   "metadata": {},
   "source": [
    "We can call an object's methods with the form \"variable.method()\", or \"variable.method(argument1, argument2, ...)\""
   ]
  },
  {
   "cell_type": "markdown",
   "id": "1bec8b5f-4ae2-4e9a-aab8-f0d5810dca41",
   "metadata": {
    "tags": []
   },
   "source": [
    "# Operators\n",
    "\n",
    "Python has all the operators you typically find in a programming language.\n",
    "\n",
    "* Assignment operator: =\n",
    "* Arithmetic operators: +, -, \\*, /, +=, -=, \\*=, /=, \\*\\* (exponentiation), % (modulo), // (floor division)\n",
    "* Comparison operators: ==, !=, <, >, <=, >=\n",
    "* Logical operators: and, or, not\n",
    "  * the \"and\" and \"or\" operators use [short-circuit evaluation](https://en.wikipedia.org/wiki/Short-circuit_evaluation)\n",
    "* Bitwise operators: << (left shift), >> (right shift), | (bitwise or), & (bitwise and), ^ (complement)\n",
    "* Identity / membership operators: is, in\n",
    "\n",
    "More on operators here: https://docs.python.org/3/library/stdtypes.html#"
   ]
  },
  {
   "cell_type": "markdown",
   "id": "e1c0a53d-d2f8-41fd-b8e4-12943d785ab1",
   "metadata": {
    "slideshow": {
     "slide_type": "slide"
    },
    "tags": []
   },
   "source": [
    "# Functions\n",
    "Functions are reusable chunks of python code. They (usually) have a name, they can take 0 or more arguments, and they  return a value.<br>\n",
    "If you don't explicitly return a value, a function returns \"None\".\n",
    "This is the general lay-out of a function in Python:"
   ]
  },
  {
   "cell_type": "code",
   "execution_count": null,
   "id": "734b7d7b-e8a1-4a06-b1ed-f18e40ce592b",
   "metadata": {},
   "outputs": [],
   "source": [
    "def test_function( argument1, argument2, argumentn=\"default_value\"):\n",
    "    \"This is the documentation string (or docstring) for the function\"\n",
    "    # The body of the function goes here:\n",
    "    print(\"Value of argument1:\",argument1)\n",
    "    print(\"Value of argument2:\",argument2)\n",
    "    print(\"Value of argumentn:\",argumentn)\n",
    "    \n",
    "x=test_function('a',2)\n",
    "print(\"test_function returned\",x)"
   ]
  },
  {
   "cell_type": "code",
   "execution_count": null,
   "id": "de104897-b88b-403f-aa06-fd450294ae7e",
   "metadata": {},
   "outputs": [],
   "source": [
    "help(test_function)"
   ]
  },
  {
   "cell_type": "markdown",
   "id": "cc552cfa-9df6-40ad-a7ba-82dda7818e3f",
   "metadata": {
    "slideshow": {
     "slide_type": "-"
    }
   },
   "source": [
    "\n",
    "* Function announced with the <font color=\"red\"><b>def</b></font> keyword\n",
    "* Followed by the function name\n",
    "* Followed by the argument list of 0 or more arguments in parentheses\n",
    "* <font color=\"green\"><b>Recommendation</b></font> :: use doc strings\n",
    "* Body of the function\n",
    "* Optional return of one or more values, e.g. \"return (value1,value2)\"\n",
    "* If there is no return statement then the function returns <font color=\"red\"><b>None</b></font>"
   ]
  },
  {
   "cell_type": "markdown",
   "id": "8e1ad0d6-db7f-4836-8b17-bd9db94b7e2c",
   "metadata": {
    "slideshow": {
     "slide_type": "slide"
    },
    "tags": []
   },
   "source": [
    "## Exercise: Hello World function\n",
    "In the following cell, create a function named hello_world() that takes no arguments. It should print \"Hello, World!\" when you call the function.\n",
    "Then, modify your function to take one optional argument that defaults to \"World\". If called without an argument your function should print \"Hello, World!\". If you pass a value to the function, for example \"Bob\", your function should print \"Hello, Bob!\"."
   ]
  },
  {
   "cell_type": "code",
   "execution_count": null,
   "id": "0b34ad97-6160-48a2-a452-018f81c27bab",
   "metadata": {},
   "outputs": [],
   "source": []
  },
  {
   "cell_type": "markdown",
   "id": "8c1b9d17-8b93-49b7-a3a6-8fd0b6fab74c",
   "metadata": {
    "slideshow": {
     "slide_type": "slide"
    }
   },
   "source": [
    "# Strings\n",
    "\n",
    "* A string is a sequence of characters enclosed in single quotes or double quotes\n",
    "* \"Short\" strings fit onto one line, like \"here is a string\"\n",
    "* \"Long\" strings don't fit on one line, and are enclosed in \"triple\" quotes."
   ]
  },
  {
   "cell_type": "code",
   "execution_count": null,
   "id": "63269c0b-c04d-460a-87f2-cc30122d94fe",
   "metadata": {},
   "outputs": [],
   "source": [
    "s1 = 'Here is a short string.'\n",
    "s2 = \"Here's another short string. Note it contains a single quote.\"\n",
    "s3 = \"\"\"This is a long string.\n",
    "It's content includes multiple lines of text.\"\"\"\n",
    "print(s1 + s2)\n",
    "print(s3)"
   ]
  },
  {
   "cell_type": "code",
   "execution_count": null,
   "id": "ed4d196e-0533-4095-b1fa-17507ef4b2ca",
   "metadata": {},
   "outputs": [],
   "source": [
    "# f-strings are an easy way to format text.\n",
    "version_number = 3.6\n",
    "s4 = f\"A great tool to format text is the f-string, which was added in python version {version_number}.\"\n",
    "print(s4)"
   ]
  },
  {
   "cell_type": "markdown",
   "id": "d214dcfb-959f-46b3-b0af-c83d120254a9",
   "metadata": {
    "slideshow": {
     "slide_type": "slide"
    }
   },
   "source": [
    "## Strings have some useful operators and methods."
   ]
  },
  {
   "cell_type": "code",
   "execution_count": null,
   "id": "91df6b19-1aae-4f13-8051-ae5bf55df7ec",
   "metadata": {},
   "outputs": [],
   "source": [
    "# You can multiply and add them:\n",
    "s1=\"abc|\" * 3 + \"xyz\"\n",
    "print(\"s1:\", s1)\n",
    "# You can split them by some delimiter character:\n",
    "print(\"Split by | characters:\", s1.split(\"|\"))\n",
    "print(\"Converted to upper case:\", s1.upper())\n",
    "# Strings have a length:\n",
    "print(f\"s1 is {len(s1)} characters long.\")\n",
    "print(f\"s1 contains {s1.count('a')} a's\")"
   ]
  },
  {
   "cell_type": "markdown",
   "id": "05ee0328-ab26-4b1c-bee6-b3c571f57ae7",
   "metadata": {},
   "source": [
    "For more on strings see the [Python Tutorial](https://docs.python.org/3.7/tutorial/introduction.html#strings) ."
   ]
  },
  {
   "cell_type": "markdown",
   "id": "d0ce4c8d-b4b8-41e8-9b48-66f3b983fd57",
   "metadata": {
    "slideshow": {
     "slide_type": "slide"
    },
    "tags": []
   },
   "source": [
    "# Lists\n",
    "\n",
    "* Ordered collection of 0 or more elements\n",
    "* The elements don't have to be unique\n",
    "* Elements can be various types, even other lists\n",
    "* Mutable (ie you can add and remove elements, change order, etc)\n",
    "* To create a list:\n",
    "  * **\\[** element1, element2, element3, ... **\\]** creates a new list\n",
    "  * list() turns its single argument into a list\n",
    "  * List comprehension - we'll get to this later\n",
    "* Pros - incredibly flexible. Cons - slow."
   ]
  },
  {
   "cell_type": "markdown",
   "id": "03eeb899-9b1c-45e9-adb4-0c8275fa6efb",
   "metadata": {
    "slideshow": {
     "slide_type": "subslide"
    }
   },
   "source": [
    "## List operators"
   ]
  },
  {
   "cell_type": "code",
   "execution_count": null,
   "id": "92433275-e08f-4b8b-853b-6e4e54d23d24",
   "metadata": {
    "slideshow": {
     "slide_type": "-"
    }
   },
   "outputs": [],
   "source": [
    "# Lets create some lists:\n",
    "a1=['a','x','b','w','d','e']\n",
    "a2=list('z')\n",
    "print(f\"List a1 is: {a1}\")\n",
    "print(f\"List a2 is: {a2}\")\n",
    "# Lists have a length:\n",
    "print( f\"Length of a1 is {len(a1)}.\")\n",
    "# Some operators work on lists:\n",
    "print(f\"a1+a2={a1+a2}, a2*3={a2*3}\")"
   ]
  },
  {
   "cell_type": "code",
   "execution_count": null,
   "id": "98333afe-937c-4a70-803d-aa9d92e219a3",
   "metadata": {},
   "outputs": [],
   "source": [
    "# And some operators don't:\n",
    "print(f\"a1/2={a1/2}\")"
   ]
  },
  {
   "cell_type": "markdown",
   "id": "aea9d065-b773-4963-8103-13d2eee90aef",
   "metadata": {
    "slideshow": {
     "slide_type": "subslide"
    }
   },
   "source": [
    "## List objects have some methods"
   ]
  },
  {
   "cell_type": "code",
   "execution_count": null,
   "id": "331f0e0a-eeb7-4d04-a1ac-b40fb94c73dc",
   "metadata": {
    "scrolled": true
   },
   "outputs": [],
   "source": [
    "l=['a','x','b','w','d','e']\n",
    "l.remove('a')\n",
    "print(\"With 'a' removed:\", l)\n",
    "l.sort()\n",
    "print(\"Sorted:\",l)\n",
    "l.reverse()\n",
    "print(\"Reversed:\",l)\n",
    "l.append('p')\n",
    "print(\"With 'p' appended:\",l)\n",
    "print(\"Last element (which has been removed):\", l.pop())\n",
    "print(\"First element (which has been removed):\", l.pop(0))"
   ]
  },
  {
   "cell_type": "markdown",
   "id": "064d5e72-8619-4895-b99f-fdce1d8bf988",
   "metadata": {},
   "source": [
    "For more on lists see the [Python Tutorial](https://docs.python.org/3.7/tutorial/datastructures.html#more-on-lists) ."
   ]
  },
  {
   "cell_type": "markdown",
   "id": "80d0fbbd-3639-47cc-bd96-3b3415224140",
   "metadata": {
    "slideshow": {
     "slide_type": "slide"
    }
   },
   "source": [
    "# Tuples\n",
    "* Tuples are **immutable** ordered collections of objects\n",
    "* The objects can be of various types\n",
    "* You can create them with the **\\(** and **\\)** symbols, or with the tuple() command\n",
    "* Pros: very fast. Cons: immutable"
   ]
  },
  {
   "cell_type": "code",
   "execution_count": null,
   "id": "cc918f1b-3e37-424d-988f-0234fe7e626c",
   "metadata": {},
   "outputs": [],
   "source": [
    "days_of_the_week=('mon','tue','wed','thur','fri','sat','sun')\n",
    "print(f\"Day 6 is {days_of_the_week[6]}\")\n",
    "days_of_the_week[2]='hump_day'"
   ]
  },
  {
   "cell_type": "markdown",
   "id": "49b6e531-da1b-438d-abcf-613c29ca8540",
   "metadata": {},
   "source": [
    "These are handy for returning multiple values from a function: `return ( mean + sd, mean - sd )`\n",
    "\n",
    "One oddity about tuple syntax: a tuple with a single element must be defined using a comma, for example `( 5, )` . The expression `( 5 )` is the same as `5`, whereas `( 5, )` is a tuple with the single element 5."
   ]
  },
  {
   "cell_type": "markdown",
   "id": "79d332c3-138d-43f6-99cb-568e34cc0343",
   "metadata": {
    "slideshow": {
     "slide_type": "slide"
    },
    "tags": []
   },
   "source": [
    "# Accessing sequence elements by index\n",
    "* Strings, lists, and tuples are examples of **sequences**.\n",
    "* You can access one or more elements of a sequence with their index number in square brackets: [ ]\n",
    "* Indexes range from 0 up to (sequence length - 1)\n",
    "* Negative indexes count backwards from the end: -1 is the last element, -2 the second from last, etc.\n",
    "* Within the brackets you can provide the [ start : end (not included!) : stepsize] where \n",
    "  * start defaults to 0, \n",
    "  * end defaults to the end of the list\n",
    "  * stepsize defaults to 1."
   ]
  },
  {
   "cell_type": "code",
   "execution_count": null,
   "id": "400a6852-1a44-4c18-ace8-335e322ba1ab",
   "metadata": {},
   "outputs": [],
   "source": [
    "letters = ['a','b','c','d','e','f','g','h','i','j','k','l','m']\n",
    "print(letters, letters[0], letters[-1])\n",
    "print(letters[0:3])\n",
    "print(letters[3:12:2])"
   ]
  },
  {
   "cell_type": "markdown",
   "id": "80c173f3-8952-4b3f-969b-e95c1a4bcab0",
   "metadata": {
    "slideshow": {
     "slide_type": "slide"
    }
   },
   "source": [
    "# Flow control: the if / elif / else statement\n",
    "Its imperative that your code can branch depending on different situations that arise. The **if** statement lets you do this:"
   ]
  },
  {
   "cell_type": "code",
   "execution_count": null,
   "id": "ff87de0d-86cb-477c-b49a-b59ddbe14eb3",
   "metadata": {},
   "outputs": [],
   "source": [
    "animal='dog'\n",
    "if animal == 'dog':\n",
    "    print(\"The animal is a dog.\")\n",
    "elif animal == 'cat':\n",
    "    print(\"The animal is a cat\")\n",
    "else:\n",
    "    print(\"The animal is neither dog nor cat!\")"
   ]
  },
  {
   "cell_type": "markdown",
   "id": "9c07b109-1e15-45ee-afb5-d24309e938b5",
   "metadata": {},
   "source": [
    "Both the `elif` and `else` clauses are optional. Note the white space before the `print` statements - that indentation is significant!"
   ]
  },
  {
   "cell_type": "markdown",
   "id": "ab7a89e6-395c-4d24-8739-87c3df3b1e32",
   "metadata": {
    "slideshow": {
     "slide_type": "slide"
    }
   },
   "source": [
    "# Dictionaries\n",
    "* A dictionary (also known as a \"hash\" or \"associative array\") is a collection of key:value pairs. \n",
    "* You can create dictionaries with the **dict()** command or with key:value pairs between the **\\{** and **\\}** symbols.\n",
    "* The keys must be unique. Keys and values can be of any type.\n",
    "* The lookup on a key is **extremely** fast."
   ]
  },
  {
   "cell_type": "code",
   "execution_count": null,
   "id": "33b4af80-9527-42b9-bdc0-8b498f31e0a3",
   "metadata": {},
   "outputs": [],
   "source": [
    "elements = { 'H':'hydrogen', 'He':'helium', 'Li':'lithium', 'Be':'berylium'}\n",
    "elements['B'] = 'boron'\n",
    "print( f\"The element whose symbol is H is {elements['H']}.\")\n",
    "print( f\"Does the dictionary include carbon? {'C' in elements} .\")\n",
    "print( \"Here are the symbols:\", list(elements.keys()) )\n",
    "print( f\"The element name for symbol 'Po' is: {elements.get('Po','unknown')}.\")"
   ]
  },
  {
   "cell_type": "markdown",
   "id": "80a82afa-cc44-4835-83cf-d1b7c3e0313b",
   "metadata": {
    "slideshow": {
     "slide_type": "subslide"
    }
   },
   "source": [
    "## More dictionaries"
   ]
  },
  {
   "cell_type": "code",
   "execution_count": null,
   "id": "ab79adf8-c95a-403f-9a0b-7afb1d3035a7",
   "metadata": {},
   "outputs": [],
   "source": [
    "print( f\"The element whose symbol is N is {elements['N']}.\")"
   ]
  },
  {
   "cell_type": "markdown",
   "id": "b5e6afd6-0032-4b0a-a794-67cd3f2a26db",
   "metadata": {},
   "source": [
    "An attempt to access a missing key generates a KeyError exception. We'll learn about exception handling shortly.  \n",
    "For more on dictionaries see the [Python Tutorial](https://docs.python.org/3/tutorial/datastructures.html#dictionaries \"Python Tutorial\") ."
   ]
  },
  {
   "cell_type": "markdown",
   "id": "93cd09bf-3889-490e-b3c2-72ac4c36b20c",
   "metadata": {
    "slideshow": {
     "slide_type": "slide"
    }
   },
   "source": [
    "## Exercise: Improved Hello World function"
   ]
  },
  {
   "cell_type": "code",
   "execution_count": null,
   "id": "3f26253a-e26a-419c-87c1-df817aa9376d",
   "metadata": {},
   "outputs": [],
   "source": [
    "# Revise this hello_world function so that it can greet you in several different languages. \n",
    "# Your function must accept one argument, which is the name of the language to use for the \n",
    "# greeting, and that argument should default to some language if no value is given. \n",
    "# Hint: this is a nice use case for a dictionary.\n",
    "def hello_world():\n",
    "    print(\"Hello, world!\")"
   ]
  },
  {
   "cell_type": "markdown",
   "id": "bede4a5b-a894-46af-9dc4-67a1afd75f98",
   "metadata": {
    "tags": []
   },
   "source": [
    "# Looping statements: while and for\n",
    "Python has two different ways to loop: the while loop and the for loop"
   ]
  },
  {
   "cell_type": "markdown",
   "id": "85d3bf67-788a-40d2-bc61-b2cda6fec2e4",
   "metadata": {
    "slideshow": {
     "slide_type": "slide"
    }
   },
   "source": [
    "# While loops\n",
    "A while loop tests some logical condition, and executes the body of the loop while that condition evaluates to True:"
   ]
  },
  {
   "cell_type": "code",
   "execution_count": null,
   "id": "2e66b02c-b297-42a5-bf40-805afeac5109",
   "metadata": {
    "scrolled": true
   },
   "outputs": [],
   "source": [
    "import random\n",
    "count = 0\n",
    "while random.random() < 0.98:\n",
    "    count+=1\n",
    "print(f\"Found {count} consecutive random numbers less than 0.98.\")"
   ]
  },
  {
   "cell_type": "markdown",
   "id": "126b363f-ce5e-42ce-aa44-a5ff5b8a19de",
   "metadata": {
    "slideshow": {
     "slide_type": "slide"
    },
    "tags": []
   },
   "source": [
    "# For loops\n",
    "For loops let you process each item in a sequence of items, for example each item in a list:"
   ]
  },
  {
   "cell_type": "code",
   "execution_count": null,
   "id": "67a4ae94-c3d2-40a2-9e79-1e6177416019",
   "metadata": {
    "scrolled": true,
    "tags": []
   },
   "outputs": [],
   "source": [
    "for letter in [ 'a', 'e', 'i', 'o', 'u']:\n",
    "    print(letter)"
   ]
  },
  {
   "cell_type": "markdown",
   "id": "5521898d-6001-4abd-8d2f-98f256fe153e",
   "metadata": {
    "slideshow": {
     "slide_type": "slide"
    }
   },
   "source": [
    "## The range() function\n",
    "The `range(start,stop,[stepsize=1])` function returns a list-like object containing integers from start to stop-1. This is useful for all kinds of list processing and for-loop control:"
   ]
  },
  {
   "cell_type": "code",
   "execution_count": null,
   "id": "d2c18d80-e278-4a31-aa1a-ba645d7f07ec",
   "metadata": {},
   "outputs": [],
   "source": [
    "element_names=['hydrogen','helium','lithium','berylium','boron','carbon','nitrogen','oxygen','fluorine']\n",
    "for i in range(0,len(element_names)):\n",
    "    print( f\"Item {i} in the list is {element_names[i]}.\")"
   ]
  },
  {
   "cell_type": "code",
   "execution_count": null,
   "id": "17599e27-8417-4ff4-93c6-8790685aa945",
   "metadata": {
    "scrolled": true
   },
   "outputs": [],
   "source": [
    "# The stepsize defaults to 1 and the start value defaults to 0:\n",
    "print(list(range(3)))"
   ]
  },
  {
   "cell_type": "markdown",
   "id": "83c9d51d-8080-41c8-9aeb-76187d91041f",
   "metadata": {
    "slideshow": {
     "slide_type": "slide"
    }
   },
   "source": [
    "## Iterators\n",
    "For loops can iterate across a variety of objects, such as strings, lists, range() objects, or open files. These objects are all iterators. More on iterators [here](https://docs.python.org/3.7/tutorial/classes.html#iterators \"Python Tutorial\")."
   ]
  },
  {
   "cell_type": "code",
   "execution_count": null,
   "id": "9c4f9284-78b4-4570-8ff7-b138286f8892",
   "metadata": {
    "scrolled": true
   },
   "outputs": [],
   "source": [
    "for letter in \"ABC\":\n",
    "    print(letter)\n",
    "for vowel in ['a','e','i','o','u']:\n",
    "    print(vowel)\n",
    "for number in range(0,5):\n",
    "    print(number)\n",
    "with open(\"popular_dog_names.txt\",\"r\") as dog_file:\n",
    "    for line in dog_file:\n",
    "        if line.startswith('M'):\n",
    "            print(line.strip())"
   ]
  },
  {
   "cell_type": "markdown",
   "id": "d326553b-807d-4583-9cbb-2500dd2dcf65",
   "metadata": {
    "slideshow": {
     "slide_type": "slide"
    }
   },
   "source": [
    "## Exercise: Factorial function\n",
    "Create a function named \"factorial\" that takes one argument, n, and returns n! (ie 1 * 2 * 3 * ... * (n-2) * (n-1) * n). This is easy to implement with a for loop.\n",
    "\n",
    "For this exercise, you can assume that the argument is a positive integer. Write the factorial function, and try calling it with a few different positive integer values."
   ]
  },
  {
   "cell_type": "code",
   "execution_count": null,
   "id": "616ae46e-5ffb-4769-8d74-0baf2f7083e7",
   "metadata": {},
   "outputs": [],
   "source": []
  },
  {
   "cell_type": "markdown",
   "id": "dfb08752-3f6b-49b3-8f3a-294d76bd9b3d",
   "metadata": {
    "slideshow": {
     "slide_type": "slide"
    }
   },
   "source": [
    "# Loop control: continue and break\n",
    "Sometimes you want to skip the rest of the body of a loop, and **continue** with the next iteration.  \n",
    "Sometimes you want to **break** out of a loop early.  \n",
    "This is what **continue** and **break** are for."
   ]
  },
  {
   "cell_type": "code",
   "execution_count": null,
   "id": "a464f563-07cc-4f06-a1d0-0cf15d065c1e",
   "metadata": {},
   "outputs": [],
   "source": [
    "for number in [ 1, 2, 3, 4, 5, 6, 7, 8, 9, 10 ]:\n",
    "    print(\"Testing\", number, \"...\")\n",
    "    if number % 2 == 0:\n",
    "        print(number, \"is an even number.\")\n",
    "        continue\n",
    "    if number % 3 == 0:\n",
    "        print(number, \"is a multiple of 3.\")\n",
    "        continue\n",
    "    if number % 7 == 0:\n",
    "        print(number, \"is a multiple of 7. Bailing out!\")\n",
    "        break\n",
    "    print(\"All done with number\", number)"
   ]
  },
  {
   "cell_type": "markdown",
   "id": "cab9ba0b-f47c-4ed0-af18-f1684da6a0bf",
   "metadata": {
    "slideshow": {
     "slide_type": "slide"
    }
   },
   "source": [
    "# List comprehension\n",
    "For loops are handy for populating lists. Let's say we want a list of integers from 0 to 9 squared. You could write this:"
   ]
  },
  {
   "cell_type": "code",
   "execution_count": null,
   "id": "254e538e-2c59-4553-9167-02b6dc8426c8",
   "metadata": {},
   "outputs": [],
   "source": [
    "squared_integers = []\n",
    "for i in range(0,10):\n",
    "    squared_integers.append( i * i )\n",
    "squared_integers"
   ]
  },
  {
   "cell_type": "markdown",
   "id": "25d81eea-98a8-4729-9a0a-b78d44054ba1",
   "metadata": {},
   "source": [
    "But its easier to write this:"
   ]
  },
  {
   "cell_type": "code",
   "execution_count": null,
   "id": "5cad6853-2d55-4b1a-96b4-82c98faf38dc",
   "metadata": {},
   "outputs": [],
   "source": [
    "squared_integers = [ i * i for i in range(0,10) ]\n",
    "squared_integers"
   ]
  },
  {
   "cell_type": "markdown",
   "id": "c6469f47-d757-450a-a119-8b51f0295dd1",
   "metadata": {},
   "source": [
    "This is \"list comprehension\", first introduced in Python version 2.0.\n",
    "For more details see the [Python Tutorial](https://docs.python.org/3.7/tutorial/datastructures.html#list-comprehensions \"Python Tutorial\") .  \n",
    "You can also do tuple comprehensions:"
   ]
  },
  {
   "cell_type": "code",
   "execution_count": null,
   "id": "831e263d-ab40-4d1c-82b8-783e9ce0a5fa",
   "metadata": {
    "tags": []
   },
   "outputs": [],
   "source": [
    "squared_integers = tuple( i * i for i in range(0,10) )\n",
    "squared_integers"
   ]
  },
  {
   "cell_type": "markdown",
   "id": "2629681e-42b7-4706-8f8b-f80a00e4b68a",
   "metadata": {
    "slideshow": {
     "slide_type": "slide"
    }
   },
   "source": [
    "# File input / output (I/O)\n",
    "Its useful to read data from files, or write data to files. This is done through file objects, which are created using the `open()` function. Files can be opened for reading (\"r\"), writing (\"w\"), or appending (\"a\"):"
   ]
  },
  {
   "cell_type": "code",
   "execution_count": null,
   "id": "33b407cb-a4e0-4598-ae0f-8f2e936ec806",
   "metadata": {},
   "outputs": [],
   "source": [
    "input_file = open(\"popular_dog_names.txt\",\"r\")    # Open a file for reading.\n",
    "first_line = input_file.readline()                # Read one line.\n",
    "input_file.close()                                # Close the input file.\n",
    "print(f\"Read this data from the file: '{first_line}'\")\n",
    "output_file = open(\"tmpfile.txt\",\"w\")             # Open another file for writing. This erases the file if it exists.\n",
    "output_file.write(first_line)\n",
    "output_file.close()"
   ]
  },
  {
   "cell_type": "markdown",
   "id": "37ba3d7e-18e3-4963-8e51-f43e6f531a4f",
   "metadata": {},
   "source": [
    "You can also read all the lines of a file into a list with input_file.readlines(), but be careful! The file might be big!"
   ]
  },
  {
   "cell_type": "markdown",
   "id": "68698f6b-8b99-4ea7-8f26-bdd61ac0342c",
   "metadata": {},
   "source": [
    "**Note #1:** If you are working with binary data files (rather than text files) you need to open them in the \"rb\", \"wb\", or \"ab\" mode, and you may find the [struct](https://docs.python.org/3.7/library/struct.html) library helpful."
   ]
  },
  {
   "cell_type": "markdown",
   "id": "d5a90587-3138-498c-b828-034f346704c2",
   "metadata": {},
   "source": [
    "**Note #2:** Files you have opened for reading are iterable, so you can iterate across them in a **for** loop. They are not sequences, however."
   ]
  },
  {
   "cell_type": "markdown",
   "id": "ce78b1cb-3fd5-45a7-9925-a218cdefad0a",
   "metadata": {
    "slideshow": {
     "slide_type": "subslide"
    },
    "tags": []
   },
   "source": [
    "## The with statement\n",
    "A common pattern in Python is:\n",
    "> Try to open a file. <br>\n",
    "> If that worked, read from or write to the file. <br>\n",
    "> Close the file.\n",
    "\n",
    "This is so common that Python provides a statement to simplify this: `with`"
   ]
  },
  {
   "cell_type": "code",
   "execution_count": null,
   "id": "6e96dc1e-007b-4ec4-8348-ebd68b956862",
   "metadata": {
    "scrolled": true
   },
   "outputs": [],
   "source": [
    "with open(\"popular_dog_names.txt\") as input_file:\n",
    "    all_lines = input_file.readlines()\n",
    "    print(f\"The file contains {len(all_lines)} lines of data.\")\n",
    "    print(f\"The first line is '{all_lines[0]}'\")\n",
    "    print(f\"The last line is '{all_lines[-1]}'\")"
   ]
  },
  {
   "cell_type": "markdown",
   "id": "f8afee8f-753c-4ccf-8eda-3cc3b5408771",
   "metadata": {},
   "source": [
    "At the end of the **with** clause the file is closed.\n",
    "\n",
    "You can use **with** for more than just file I/O. For all this to work, the object created in the **with** statement must have the methods **\\_\\_enter\\_\\_** and **\\_\\_exit\\_\\_**. See the documentation [here](https://docs.python.org/3.7/reference/compound_stmts.html#with)."
   ]
  },
  {
   "cell_type": "markdown",
   "id": "b424e472-de88-40ae-ba07-33e7ad0cf5d6",
   "metadata": {
    "slideshow": {
     "slide_type": "slide"
    }
   },
   "source": [
    "## Exercise: Dog name finder\n",
    "The file \"popular_dog_names.txt\" lists the 10 most popular names for female and male dogs in 2016 (according to the [American Kennel Club](https://www.akc.org/expert-advice/news/popular-dog-names-2016/)). Write a function that accepts a proposed dog name, and checks the popular_dog_names.txt file to see if that name is popular. If it is, print that the proposed name is popular, its rank, and for what gender of dog. If the proposed name is not found, print that the name wasn't found."
   ]
  },
  {
   "cell_type": "code",
   "execution_count": null,
   "id": "8a280510-7d4c-407a-ba4f-8d509f19f738",
   "metadata": {},
   "outputs": [],
   "source": []
  },
  {
   "cell_type": "markdown",
   "id": "823e4578-cdf0-4e86-b559-3673936537f2",
   "metadata": {
    "slideshow": {
     "slide_type": "slide"
    },
    "tags": []
   },
   "source": [
    "# Sets\n",
    "* A set is a collection of **unique** objects - no duplicates allowed!\n",
    "* You can create sets with the **set()** function or with the **\\{** and **\\}** symbols.\n",
    "* You can also do set comprehensions.\n",
    "* Sets have all the methods and operators you'd expect: union, intersect, difference, etc.\n",
    "* Sets are iterable, but they are not sequences.\n",
    "* More on sets [here](https://docs.python.org/3/tutorial/datastructures.html#sets \"Python Tutorial\") ."
   ]
  },
  {
   "cell_type": "markdown",
   "id": "b6bfddbb-69b3-4580-9934-17638304c066",
   "metadata": {
    "slideshow": {
     "slide_type": "slide"
    },
    "tags": []
   },
   "source": [
    "# Exceptions\n",
    "When something goes wrong, python \"raises\" an exception object."
   ]
  },
  {
   "cell_type": "code",
   "execution_count": null,
   "id": "907d42f6-9262-4683-b2cf-2c3f2f06293b",
   "metadata": {},
   "outputs": [],
   "source": [
    "# Depending on the value of 'symbol' this code might raise an exception:\n",
    "for symbol in ['H', 'Li', 'S']:\n",
    "    print(f\"The name of element {symbol} is {elements[symbol]}.\")"
   ]
  },
  {
   "cell_type": "code",
   "execution_count": null,
   "id": "8b4861a0-91ad-4aa6-9058-9feea0995346",
   "metadata": {
    "tags": []
   },
   "outputs": [],
   "source": [
    "# Depending on the value of 'symbol' this code might raise an exception:\n",
    "for symbol in ['H', 'Li', 'S']:\n",
    "    try:\n",
    "        print(f\"The name of element {symbol} is {elements[symbol]}.\")\n",
    "    except KeyError:\n",
    "        print( f\"Symbol {symbol} not found in elements dictionary!\")"
   ]
  },
  {
   "cell_type": "markdown",
   "id": "cf95d4ab-4b28-4846-bea6-25aed13bfd89",
   "metadata": {
    "slideshow": {
     "slide_type": "subslide"
    }
   },
   "source": [
    "## More exceptions\n",
    "You may not know what kind of exception to handle, so you can do it \"generically\":"
   ]
  },
  {
   "cell_type": "code",
   "execution_count": null,
   "id": "2e796a6d-772b-4641-ae62-78d1c1b657c9",
   "metadata": {},
   "outputs": [],
   "source": [
    "try:\n",
    "    quotient = 17 / 0\n",
    "except Exception as e:\n",
    "    print(f\"Whoa, just caught unexpected exception: {type(e)},'{e}'!\")"
   ]
  },
  {
   "cell_type": "markdown",
   "id": "70cf7885-0e8e-4ee9-866d-9f6cb3703cee",
   "metadata": {
    "slideshow": {
     "slide_type": "subslide"
    }
   },
   "source": [
    "## User-defined exceptions\n",
    "Python defines [lots of exceptions](https://docs.python.org/3.7/library/exceptions.html), but you can create your own too:"
   ]
  },
  {
   "cell_type": "code",
   "execution_count": null,
   "id": "7e4c4ac4-8fff-4a48-bb79-e394c297034a",
   "metadata": {},
   "outputs": [],
   "source": [
    "class MyException(Exception):\n",
    "    pass\n",
    "\n",
    "raise MyException(\"Something happened. Here's some information to help you sort it out.\")"
   ]
  },
  {
   "cell_type": "markdown",
   "id": "eb49681b-a94f-4766-9959-43cbc87a2dc0",
   "metadata": {},
   "source": [
    "This is an example of inheritance, which we will get to shortly."
   ]
  },
  {
   "cell_type": "markdown",
   "id": "d6f605ce-eb89-4289-b687-96bc6c756420",
   "metadata": {
    "slideshow": {
     "slide_type": "slide"
    },
    "tags": []
   },
   "source": [
    "# Modules\n",
    "* Modules are files of python code (functions, classes, etc) whose names end in \".py\"\n",
    "* They are a **great** mechanism for code re-use\n",
    "* To use a module you must `import` it:"
   ]
  },
  {
   "cell_type": "code",
   "execution_count": null,
   "id": "05135469-5edc-436a-8c9b-319ba63dfd55",
   "metadata": {},
   "outputs": [],
   "source": [
    "# Assume we want to use the cos function from the math module (within Python Standard Library)\n",
    "import math\n",
    "print(f\"The cosine of pi is: {math.cos(math.pi)}\")\n",
    "# Renaming the module name\n",
    "import math as m\n",
    "print(f\"Euler's constant e has the following value: {m.e}\")\n",
    "# We can also proceed as follows (rather dangerous)\n",
    "from math import sin, pi\n",
    "print(f\"The sine of pi/4 is: {sin(pi/4)}\")\n",
    "# And almost never do this:\n",
    "from math import *"
   ]
  },
  {
   "cell_type": "markdown",
   "id": "341bb0a4-5671-4602-8599-dcbfe921e447",
   "metadata": {
    "slideshow": {
     "slide_type": "subslide"
    },
    "tags": []
   },
   "source": [
    "## The Python Standard Library\n",
    "* Extensive collection of modules that is installed with python\n",
    "* Most commonly used:\n",
    "    * sys, especially sys.argv (the list of command-line arguments)\n",
    "    * os, especially os.path (tools for manipulating file names)\n",
    "    * time (tools for getting and formatting the system time)\n",
    "    * math\n",
    "    * string\n",
    "* Documented here: https://docs.python.org/3.7/library/index.html"
   ]
  },
  {
   "cell_type": "markdown",
   "id": "8ad44e87-3fb9-48e0-8d29-12f37727427e",
   "metadata": {
    "tags": []
   },
   "source": [
    "## Modules you should know\n",
    "* [sys](https://docs.python.org/3.7/library/sys.html) : system-specific parameters\n",
    "* [os](https://docs.python.org/3.7/library/os.html) : operating system functions\n",
    "* [math](https://docs.python.org/3.7/library/math.html) : math functions and constants\n",
    "* [subprocess](https://docs.python.org/3.7/library/subprocess.html) : managing subprocesses\n",
    "* [multiprocessing](https://docs.python.org/3.7/library/multiprocessing.html) : process-based parallelism\n",
    "* [numpy](https://numpy.org) : numerical python library\n",
    "* [itertools](https://docs.python.org/3.7/library/itertools.html) : iterators for efficient looping\n",
    "* [time](https://docs.python.org/3.7/library/time.html) and [datetime](https://docs.python.org/3.7/library/datetime.html) : time and date functions\n",
    "* [random](https://docs.python.org/3.7/library/random.html) : random number generators"
   ]
  },
  {
   "cell_type": "markdown",
   "id": "7fe0669d-d3db-4ddb-b319-50fb5fe905ca",
   "metadata": {},
   "source": [
    "## Exercise: Bioinformatics! DNA to protein translation\n",
    "This exercise puts it all together: functions, strings, modules, and dictionaries. <br>\n",
    "The [genetic code](https://en.wikipedia.org/wiki/Genetic_code \"Wikipedia\") provides a mapping from the 4-letter alphabet of DNA (A, C, G, and T) to the 20-letter code of amino acids, that make up proteins. Three consecutive DNA \"letters\", called a codon, maps onto a single amino acid letter. For example, the DNA string \"ATG\" maps onto the amino acid letter \"M\". Using the provided module \"geneticcode.py\" which defines the genetic code as a dictionary named \"codons\", write a function that translates a DNA string to its amino acid sequence."
   ]
  },
  {
   "cell_type": "code",
   "execution_count": null,
   "id": "0cfd9a5f-f477-49d3-854c-320b2349c822",
   "metadata": {},
   "outputs": [],
   "source": [
    "# Here's a DNA sequence to translate:\n",
    "dna_sequence = \"ATGGAGGAGCCGCAGTCAGATCCTAGCGTCGAGCCC\"\n",
    "# Write a function that translates this into an amino acid sequence using the codons dictionary from the \n",
    "# geneticcode module and call your function with this sequence. This 36-letter DNA sequence should translate\n",
    "# into a 12-letter amino acid sequence."
   ]
  },
  {
   "cell_type": "code",
   "execution_count": null,
   "id": "6b1e88b7-7165-42f6-8c6e-29d2fb894154",
   "metadata": {},
   "outputs": [],
   "source": []
  },
  {
   "cell_type": "markdown",
   "id": "fcc0d5a0-a499-46ce-a7e8-46bcc97b4ec7",
   "metadata": {
    "slideshow": {
     "slide_type": "slide"
    },
    "tags": []
   },
   "source": [
    "# Classes\n",
    "\n",
    "* A class is the definition of a data type.\n",
    "* **Every** object in Python belongs to a class.\n",
    "* Each class is a collection of data values and methods.\n",
    "* A single object that belongs to a class is an 'instance' of that class.\n",
    "* Classes provide:\n",
    "  * a namespace inside which your code is isolated from outside complexity \n",
    "  * a mechanism for code reuse through inheritance"
   ]
  },
  {
   "cell_type": "markdown",
   "id": "5aff0859-4b6b-489b-a54c-50f40159d284",
   "metadata": {
    "slideshow": {
     "slide_type": "subslide"
    }
   },
   "source": [
    "## Class example"
   ]
  },
  {
   "cell_type": "code",
   "execution_count": null,
   "id": "3be8e0b2-59e5-4718-9be3-241c27ec6337",
   "metadata": {},
   "outputs": [],
   "source": [
    "class Person:\n",
    "    \"This class represents a person. (This is the docstring for the whole class.)\"\n",
    "    def __init__(self,first_name,last_name,year_of_birth):\n",
    "        \"Constructor method of the class Person. (This is the docstring for this method.)\"\n",
    "        self.fname = first_name\n",
    "        self.lname = last_name\n",
    "        self.year_born = year_of_birth\n",
    "\n",
    "p = Person(\"Brett\",\"Milash\",1962) # Creating an instance of class Person by calling the Person() function.\n",
    "print(p.fname)\n",
    "print(p)\n",
    "print(type(p))"
   ]
  },
  {
   "cell_type": "markdown",
   "id": "f41de4ca-6200-4797-9cb6-bead6f21cde2",
   "metadata": {
    "slideshow": {
     "slide_type": "subslide"
    },
    "tags": []
   },
   "source": [
    "## Special class methods\n",
    "Objects have a variety of special methods that are called behind the scenes, for example:\n",
    "* `__init__()`: class constructor or initializer\n",
    "* `__str__()`: string representation of object\n",
    "* `__lt__()`: object comparisons for sorting - lt stands for \"less than\"\n",
    "* `__del__()`: class deconstructor. Called during garbage collection, or at 'del *variable*'\n",
    "* `__enter__()`: Context manager enter function, used by **with** statement\n",
    "* `__exit__()`: Conect manager exit function, used by **with** statement\n",
    "\n",
    "`__enter__` and `__exit__` are not provided for you - you need to write these if you intend to use your object in a **with** statement.\n",
    "\n",
    "These methods are all detailed here: https://docs.python.org/3.7/reference/datamodel.html#special-method-names"
   ]
  },
  {
   "cell_type": "code",
   "execution_count": null,
   "id": "00ceb839-de3c-4697-8b32-87ef43a695d3",
   "metadata": {
    "scrolled": true,
    "slideshow": {
     "slide_type": "subslide"
    }
   },
   "outputs": [],
   "source": [
    "import time\n",
    "\n",
    "class Person:\n",
    "    \"Here's a more fleshed-out Person example.\"\n",
    "    def __init__(self,fname=\"\",lname=\"\",year_of_birth=0):\n",
    "        \"Constructor of the class Person\"\n",
    "        self.fname = fname\n",
    "        self.lname = lname\n",
    "        self.year_born = year_of_birth\n",
    "\n",
    "    def __str__(self):\n",
    "        return f\"{self.lname}, {self.fname}: born {self.year_born}\"\n",
    "\n",
    "    def __lt__(self,other):\n",
    "        return self.lname < other.lname\n",
    "    \n",
    "    def age(self):\n",
    "        \"Returns person's age in years\"\n",
    "        current_year= time.localtime( time.time() ).tm_year\n",
    "        return current_year - self.year_born\n",
    "\n",
    "rockstars = [ Person(\"Lou\",\"Reed\",1942), Person(\"Iggy\",\"Pop\",1947), Person(\"David\",\"Bowie\",1947), ]\n",
    "rockstars.sort()\n",
    "for musician in rockstars:\n",
    "    print(f\"{musician}, age {musician.age()} years\")"
   ]
  },
  {
   "cell_type": "markdown",
   "id": "a6e537c8-b789-46dc-ab9b-cc6ce750a3a2",
   "metadata": {
    "slideshow": {
     "slide_type": "subslide"
    }
   },
   "source": [
    "## Inheritance\n",
    "- Inheritance lets you create a new class inheriting data and methods from an existing class.\n",
    "- This new class is a \"child\" class derived from a \"parent\" class.\n",
    "- Parent classes are also called \"base\" classes or \"super\" classes.\n",
    "- You can add or replace methods and data values of the parent class in the child class.\n",
    "- A child class can be derived from one (single inheritance) or several (multiple inheritance) base classes."
   ]
  },
  {
   "cell_type": "markdown",
   "id": "b7f4f709-8a7d-487b-a0b1-f1b8b8548082",
   "metadata": {
    "slideshow": {
     "slide_type": "subslide"
    }
   },
   "source": [
    "## Inheritance example"
   ]
  },
  {
   "cell_type": "code",
   "execution_count": null,
   "id": "0843b121-e43b-46c5-a67e-e676bfb0e18d",
   "metadata": {
    "scrolled": true
   },
   "outputs": [],
   "source": [
    "class Student(Person):\n",
    "    \"A Student is a Person with a GPA.\"\n",
    "    def __init__(self,fname,lname,year_born,grade_point_average):\n",
    "        Person.__init__(self,fname,lname,year_born) # Calling the parent class constructor.\n",
    "        # You can also do it like this:\n",
    "        # super().__init__(fname,lname,year_born)\n",
    "        self.gpa = grade_point_average\n",
    "\n",
    "    def __str__(self):\n",
    "        return f\"{self.lname}, {self.fname}: born {self.year_born}, GPA {self.gpa}\"\n",
    "\n",
    "s = Student(\"Joe\",\"Smith\",1981,3.65)\n",
    "print(s)\n",
    "print(f\"{s.fname} is {s.age()} years old.\")"
   ]
  },
  {
   "cell_type": "markdown",
   "id": "5bdf5713-8e46-4077-86ef-1cca6f8cad8d",
   "metadata": {
    "slideshow": {
     "slide_type": "subslide"
    }
   },
   "source": [
    "## Another inheritance example"
   ]
  },
  {
   "cell_type": "code",
   "execution_count": null,
   "id": "9b0a5dc0-318c-4798-816b-09cae3a310c6",
   "metadata": {
    "scrolled": true
   },
   "outputs": [],
   "source": [
    "class MyException(Exception):\n",
    "    pass\n",
    "\n",
    "raise MyException(\"Something happened. Here's some information to help you sort it out.\")"
   ]
  },
  {
   "cell_type": "markdown",
   "id": "a5429589-7873-4b0a-b964-19e3cef1474e",
   "metadata": {
    "slideshow": {
     "slide_type": "subslide"
    }
   },
   "source": [
    "## The python standard library and inheritance\n",
    "The python standard library includes many modules that define base classes from which you derive new classes:\n",
    "* thread\n",
    "* xml.sax (XML parser)\n",
    "* html.parser\n",
    "* httpserver\n",
    "* unittest\n",
    "* Exception"
   ]
  },
  {
   "cell_type": "markdown",
   "id": "ab4fad93-eaa4-4879-9bbc-261af6443c02",
   "metadata": {
    "slideshow": {
     "slide_type": "subslide"
    },
    "tags": []
   },
   "source": [
    "## Exercise: classes and inheritance\n",
    "1. In the cell below, create a class named Dog that represents dogs. The constructor (\\_\\_init\\_\\_) should take one argument in addition to self: the dog's name. The class should implement one additional method, which is \"speak()\". The speak() method should **return** some dog-appropriate sound, for example \"Arf!\".\n",
    "2. Create a list of several instances of the Dog class, and iterate through the list printing each dog's name and the sound they return when you call the speak() method.\n",
    "3. Derive a Poodle class from the Dog class such that instances of the Poodle class return a more poodle-appropriate sound, e.g. \"Yip!\", when you call the speak() method.\n",
    "4. Add some instances of the Poodle class to your list of dogs, so list contains some Dog instances and some Poodle instances, and then re-run the code that iterates through the list."
   ]
  },
  {
   "cell_type": "code",
   "execution_count": null,
   "id": "0622d294-9c06-48c7-bc63-fd810d92b4d0",
   "metadata": {},
   "outputs": [],
   "source": []
  },
  {
   "cell_type": "markdown",
   "id": "d340d9a8-c685-4c8c-b107-fdbe8a0e2e5e",
   "metadata": {
    "tags": []
   },
   "source": [
    "# Resources:\n",
    "  * [Python tutorial](https://docs.python.org/3.7/tutorial/index.html)\n",
    "  * [Python standard library docs](https://docs.python.org/3.7/library/index.html)\n",
    "  * [RealPython.com](https://realpython.com)\n",
    "  * PyCon videos on YouTube\n",
    "  * The full CHPC Python course: https://github.com/CHPC-UofU/python-lectures "
   ]
  },
  {
   "cell_type": "code",
   "execution_count": null,
   "id": "b8840267-3ec2-4a0b-9d86-dadbe3ab8149",
   "metadata": {},
   "outputs": [],
   "source": []
  }
 ],
 "metadata": {
  "kernelspec": {
   "display_name": "Python 3 (ipykernel)",
   "language": "python",
   "name": "python3"
  },
  "language_info": {
   "codemirror_mode": {
    "name": "ipython",
    "version": 3
   },
   "file_extension": ".py",
   "mimetype": "text/x-python",
   "name": "python",
   "nbconvert_exporter": "python",
   "pygments_lexer": "ipython3",
   "version": "3.9.7"
  }
 },
 "nbformat": 4,
 "nbformat_minor": 5
}
